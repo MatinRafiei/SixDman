{
 "cells": [
  {
   "cell_type": "markdown",
   "metadata": {},
   "source": [
    "# *SixDman Basic Usage Example*\n",
    "\n",
    "> This notebook demonstrates the basic usage of the SixDman package for optical metro-urban network planning."
   ]
  },
  {
   "cell_type": "code",
   "execution_count": 1,
   "metadata": {},
   "outputs": [],
   "source": [
    "# Import Dependencies\n",
    "from pathlib import Path\n",
    "import numpy as np\n",
    "import pandas as pd\n",
    "from sixdman.core.network import Network\n",
    "from sixdman.core.band import Band, OpticalParameters\n",
    "from sixdman.core.planning import PlanningTool\n",
    "import json\n",
    "\n",
    "# Ignore warnings to have clean cell outputs\n",
    "import warnings\n",
    "warnings.filterwarnings(\"ignore\")"
   ]
  },
  {
   "cell_type": "markdown",
   "metadata": {},
   "source": [
    "### *Create results directory if it doesn't exist*"
   ]
  },
  {
   "cell_type": "code",
   "execution_count": 2,
   "metadata": {},
   "outputs": [
    {
     "name": "stdout",
     "output_type": "stream",
     "text": [
      "Results will be saved in: /home/matin/Code Camp/Test_SixDman/results/single_level\n"
     ]
    }
   ],
   "source": [
    "# Get the current working directory (where the notebook is running)\n",
    "base_dir = Path.cwd()\n",
    "\n",
    "# Define the results directory\n",
    "results_dir = base_dir.parent / \"results\" / \"single_level\"\n",
    "\n",
    "# Create it if it doesn't exist\n",
    "results_dir.mkdir(exist_ok=True)\n",
    "\n",
    "print(f\"Results will be saved in: {results_dir}\")"
   ]
  },
  {
   "cell_type": "markdown",
   "metadata": {},
   "source": [
    "### *1. Create Network Instance*"
   ]
  },
  {
   "cell_type": "code",
   "execution_count": 3,
   "metadata": {},
   "outputs": [],
   "source": [
    "# Initialize network\n",
    "network = Network(topology_name = 'MAN157')\n",
    "\n",
    "# Load topology from .mat file\n",
    "network.load_topology(filepath = '../data/MAN157Nodes.mat', matrixName ='MAN157Nodes')\n",
    "\n",
    "# Set hierarchical levels\n",
    "hl_dict = network.define_hierarchy(\n",
    "    HL1_standalone = [1, 5],\n",
    "    HL2_standalone = [0, 2, 3, 4],\n",
    "    HL3_standalone = list(range(6, 39)),\n",
    "    HL4_standalone = list(range(39, 157))\n",
    ")"
   ]
  },
  {
   "cell_type": "code",
   "execution_count": 4,
   "metadata": {},
   "outputs": [],
   "source": [
    "# Define variables for HL4 nodes\n",
    "HL4_Standalone = hl_dict['HL4']['standalone']\n",
    "HL4_colocated = hl_dict['HL4']['colocated']\n",
    "HL4_all = np.concatenate((HL4_Standalone, HL4_colocated))"
   ]
  },
  {
   "cell_type": "markdown",
   "metadata": {},
   "source": [
    "### *2. Calculate candidate paths for standalone and colocated nodes*"
   ]
  },
  {
   "cell_type": "code",
   "execution_count": 5,
   "metadata": {},
   "outputs": [],
   "source": [
    "# Define subnet matrix of HL4 nodes\n",
    "_, subnetMatrix_HL4 = network.compute_hierarchy_subgraph(hierarchy_level = 4, minimum_hierarchy_level = 4)\n",
    "\n",
    "# Calculate connected nodes to standalone HL4 nodes (candidate destinations)\n",
    "HL4_connected_nodes = network.get_neighbor_nodes(HL4_Standalone)"
   ]
  },
  {
   "cell_type": "markdown",
   "metadata": {},
   "source": [
    "#### *2.1 Candidate paths for standalone HL4s*"
   ]
  },
  {
   "cell_type": "code",
   "execution_count": null,
   "metadata": {},
   "outputs": [],
   "source": [
    "# Define CSV file_name for candidate paths for standalone HL4 nodes\n",
    "file_name = results_dir / f\"{network.topology_name}_HL4_K_path_attributes.csv\"\n",
    "\n",
    "# Check if the CSV file exists\n",
    "if file_name.exists():\n",
    "    # If the file exists -> load the CSV file containing candidate paths for standalone HL4 nodes\n",
    "    K_path_attributes_df = pd.read_csv(file_name)\n",
    "    K_path_attributes_df['links'] = K_path_attributes_df['links'].map(json.loads)\n",
    "    K_path_attributes_df['nodes'] = K_path_attributes_df['nodes'].map(json.loads)\n",
    "    \n",
    "else:   \n",
    "    # If the file doesn't exist -> calculate candidate paths \n",
    "\n",
    "    # Define number of candidate paths per node\n",
    "    k_paths = 20\n",
    "\n",
    "    # define a list to store path attributes\n",
    "    K_path_attributes = []\n",
    "\n",
    "    # iterate through each standalone HL4 node\n",
    "    for src in HL4_Standalone:\n",
    "        for dest in HL4_connected_nodes:\n",
    "            # Calculate k_paths candidate paths for (src, dest) pair\n",
    "            K_path_attributes = network.compute_k_shortest_paths(subnetMatrix_HL4, K_path_attributes, source = src, target = dest, k = k_paths)\n",
    "\n",
    "    # Convert K_path_attributes list to dataframe\n",
    "    K_path_attributes_df = pd.DataFrame(K_path_attributes)\n",
    "\n",
    "    # save dataframe to csv file\n",
    "    K_path_attributes_df.to_csv(file_name, index = False)"
   ]
  },
  {
   "cell_type": "markdown",
   "metadata": {},
   "source": [
    "#### *2.2 Candidate paths for colocated HL4s*"
   ]
  },
  {
   "cell_type": "code",
   "execution_count": null,
   "metadata": {},
   "outputs": [],
   "source": [
    "# Define CSV file_name for candidate paths for colocated HL4 nodes\n",
    "file_name = results_dir / f\"{network.topology_name}_HL4_K_path_attributes_colocated.csv\"\n",
    "\n",
    "# Check if the CSV file exists\n",
    "if file_name.exists():\n",
    "    # If the file exists -> load the CSV file containing candidate paths for colocated HL4 nodes\n",
    "    K_path_attributes_colocated_df = pd.read_csv(file_name)\n",
    "    K_path_attributes_colocated_df['links'] = K_path_attributes_colocated_df['links'].map(json.loads)\n",
    "    K_path_attributes_colocated_df['nodes'] = K_path_attributes_colocated_df['nodes'].map(json.loads)\n",
    "else:\n",
    "    # If the file doesn't exist -> calculate candidate paths \n",
    "    \n",
    "    # Define number of candidate paths per node\n",
    "    k_paths = 20\n",
    "\n",
    "    # define a list to store path attributes\n",
    "    K_path_attributes_colocated = []\n",
    "\n",
    "    # iterate through each colocated HL node\n",
    "    for src in HL4_colocated:\n",
    "        for dest in HL4_connected_nodes:\n",
    "            if src != dest: # check that the src and dest node aren't same\n",
    "                # Calculate k_paths candidate paths for (src, dest) pair\n",
    "                K_path_attributes_colocated = network.compute_k_shortest_paths(subnetMatrix_HL4, K_path_attributes_colocated, source = src, target = dest, k = k_paths)\n",
    "\n",
    "    # Convert K_path_attributes list to dataframe\n",
    "    K_path_attributes_colocated_df = pd.DataFrame(K_path_attributes_colocated)\n",
    "\n",
    "    # save dataframe to csv file\n",
    "    K_path_attributes_colocated_df.to_csv(file_name, index = False)"
   ]
  },
  {
   "cell_type": "markdown",
   "metadata": {},
   "source": [
    "#### *2.3 Sort dataframes based on num_hops and distance (in order)*"
   ]
  },
  {
   "cell_type": "code",
   "execution_count": 8,
   "metadata": {},
   "outputs": [],
   "source": [
    "K_path_attributes_df_sorted = K_path_attributes_df.groupby(['src_node'], group_keys = False).apply(lambda x: x.sort_values(['num_hops', 'distance']))\n",
    "K_path_attributes_colocated_df_sorted = K_path_attributes_colocated_df.groupby(['src_node', 'dest_node'], group_keys = False).apply(lambda x: x.sort_values(['num_hops', 'distance']))"
   ]
  },
  {
   "cell_type": "code",
   "execution_count": 9,
   "metadata": {},
   "outputs": [
    {
     "data": {
      "text/html": [
       "<div>\n",
       "<style scoped>\n",
       "    .dataframe tbody tr th:only-of-type {\n",
       "        vertical-align: middle;\n",
       "    }\n",
       "\n",
       "    .dataframe tbody tr th {\n",
       "        vertical-align: top;\n",
       "    }\n",
       "\n",
       "    .dataframe thead th {\n",
       "        text-align: right;\n",
       "    }\n",
       "</style>\n",
       "<table border=\"1\" class=\"dataframe\">\n",
       "  <thead>\n",
       "    <tr style=\"text-align: right;\">\n",
       "      <th></th>\n",
       "      <th>src_node</th>\n",
       "      <th>dest_node</th>\n",
       "      <th>nodes</th>\n",
       "      <th>links</th>\n",
       "      <th>distance</th>\n",
       "      <th>num_hops</th>\n",
       "    </tr>\n",
       "  </thead>\n",
       "  <tbody>\n",
       "    <tr>\n",
       "      <th>0</th>\n",
       "      <td>39</td>\n",
       "      <td>4</td>\n",
       "      <td>[39, 40, 42, 4]</td>\n",
       "      <td>[118, 120, 27]</td>\n",
       "      <td>30.0</td>\n",
       "      <td>3</td>\n",
       "    </tr>\n",
       "    <tr>\n",
       "      <th>9</th>\n",
       "      <td>39</td>\n",
       "      <td>5</td>\n",
       "      <td>[39, 41, 44, 45, 5]</td>\n",
       "      <td>[119, 121, 123, 31]</td>\n",
       "      <td>37.0</td>\n",
       "      <td>4</td>\n",
       "    </tr>\n",
       "    <tr>\n",
       "      <th>10</th>\n",
       "      <td>39</td>\n",
       "      <td>5</td>\n",
       "      <td>[39, 41, 44, 43, 5]</td>\n",
       "      <td>[119, 121, 122, 30]</td>\n",
       "      <td>38.0</td>\n",
       "      <td>4</td>\n",
       "    </tr>\n",
       "    <tr>\n",
       "      <th>11</th>\n",
       "      <td>39</td>\n",
       "      <td>5</td>\n",
       "      <td>[39, 40, 42, 4, 53, 52, 54, 5]</td>\n",
       "      <td>[118, 120, 27, 28, 131, 132, 33]</td>\n",
       "      <td>72.2</td>\n",
       "      <td>7</td>\n",
       "    </tr>\n",
       "    <tr>\n",
       "      <th>1</th>\n",
       "      <td>39</td>\n",
       "      <td>4</td>\n",
       "      <td>[39, 41, 44, 45, 5, 54, 52, 53, 4]</td>\n",
       "      <td>[119, 121, 123, 31, 33, 132, 131, 28]</td>\n",
       "      <td>79.2</td>\n",
       "      <td>8</td>\n",
       "    </tr>\n",
       "  </tbody>\n",
       "</table>\n",
       "</div>"
      ],
      "text/plain": [
       "    src_node  dest_node                               nodes  \\\n",
       "0         39          4                     [39, 40, 42, 4]   \n",
       "9         39          5                 [39, 41, 44, 45, 5]   \n",
       "10        39          5                 [39, 41, 44, 43, 5]   \n",
       "11        39          5      [39, 40, 42, 4, 53, 52, 54, 5]   \n",
       "1         39          4  [39, 41, 44, 45, 5, 54, 52, 53, 4]   \n",
       "\n",
       "                                    links  distance  num_hops  \n",
       "0                          [118, 120, 27]      30.0         3  \n",
       "9                     [119, 121, 123, 31]      37.0         4  \n",
       "10                    [119, 121, 122, 30]      38.0         4  \n",
       "11       [118, 120, 27, 28, 131, 132, 33]      72.2         7  \n",
       "1   [119, 121, 123, 31, 33, 132, 131, 28]      79.2         8  "
      ]
     },
     "execution_count": 9,
     "metadata": {},
     "output_type": "execute_result"
    }
   ],
   "source": [
    "# Check for the first five member of standalone candidate paths dataframe\n",
    "K_path_attributes_df_sorted.head()"
   ]
  },
  {
   "cell_type": "markdown",
   "metadata": {},
   "source": [
    "#### *2.4 Calculate LAND pairs for each standalone HL4*"
   ]
  },
  {
   "cell_type": "code",
   "execution_count": 10,
   "metadata": {},
   "outputs": [],
   "source": [
    "pairs_disjoint = network.land_pair_finder(HL4_Standalone, K_path_attributes_df_sorted, num_pairs = 1)"
   ]
  },
  {
   "cell_type": "markdown",
   "metadata": {},
   "source": [
    "### *3. Define Transmission Bands*"
   ]
  },
  {
   "cell_type": "code",
   "execution_count": 11,
   "metadata": {},
   "outputs": [],
   "source": [
    "# Define C-band parameters\n",
    "c_band_params = OpticalParameters()\n",
    "\n",
    "# Create C-band instance\n",
    "c_band = Band(\n",
    "    name='C',\n",
    "    start_freq = 190.65, # THz\n",
    "    end_freq = 196.675, # THz\n",
    "    opt_params = c_band_params,\n",
    "    network_instance = network,\n",
    "    channel_spacing = 0.05 # THz\n",
    "    )\n",
    "\n",
    "# Define L-band parameters\n",
    "l_band_params = OpticalParameters()\n",
    "\n",
    "# Create L-band instance\n",
    "l_band = Band(\n",
    "    name='L',\n",
    "    start_freq = 184.525, # THz\n",
    "    end_freq = 190.565, # THz\n",
    "    opt_params = l_band_params,\n",
    "    network_instance = network,\n",
    "    channel_spacing = 0.05 # THz\n",
    ")"
   ]
  },
  {
   "cell_type": "code",
   "execution_count": 12,
   "metadata": {},
   "outputs": [],
   "source": [
    "# define C-band and L-band frequency slots\n",
    "spectrum_C = c_band.calc_spectrum()\n",
    "spectrum_L = l_band.calc_spectrum()\n",
    "\n",
    "# concatenate C-band and KL-band to a sigle frequency spectrum\n",
    "spectrum = np.concatenate((spectrum_C, spectrum_L))\n",
    "\n",
    "# define total number of frequency slots\n",
    "num_fslots = len(spectrum)\n",
    "\n",
    "f_c_axis = spectrum * 1e12  # Convert to Hz\n",
    "Pch_dBm = np.arange(-6, -0.9, 0.1)  # Channel power in dBm\n",
    "num_Ch_mat = np.arange(1, len(spectrum) - 1)  # Channel indices"
   ]
  },
  {
   "cell_type": "markdown",
   "metadata": {},
   "source": [
    "#### *3.1 Calculate HL4 links GSNR*"
   ]
  },
  {
   "cell_type": "code",
   "execution_count": 13,
   "metadata": {},
   "outputs": [
    {
     "name": "stdout",
     "output_type": "stream",
     "text": [
      "Process Link GSNR: .....\n",
      "Processing link 0 out of 166\n",
      "Processing link 1 out of 166\n",
      "Processing link 2 out of 166\n",
      "Processing link 3 out of 166\n",
      "Processing link 4 out of 166\n",
      "Processing link 5 out of 166\n",
      "Processing link 6 out of 166\n",
      "Processing link 7 out of 166\n",
      "Processing link 8 out of 166\n",
      "Processing link 9 out of 166\n",
      "Processing link 10 out of 166\n",
      "Processing link 11 out of 166\n",
      "Processing link 12 out of 166\n",
      "Processing link 13 out of 166\n",
      "Processing link 14 out of 166\n",
      "Processing link 15 out of 166\n",
      "Processing link 16 out of 166\n",
      "Processing link 17 out of 166\n",
      "Processing link 18 out of 166\n",
      "Processing link 19 out of 166\n",
      "Processing link 20 out of 166\n",
      "Processing link 21 out of 166\n",
      "Processing link 22 out of 166\n",
      "Processing link 23 out of 166\n",
      "Processing link 24 out of 166\n",
      "Processing link 25 out of 166\n",
      "Processing link 26 out of 166\n",
      "Processing link 27 out of 166\n",
      "Processing link 28 out of 166\n",
      "Processing link 29 out of 166\n",
      "Processing link 30 out of 166\n",
      "Processing link 31 out of 166\n",
      "Processing link 32 out of 166\n",
      "Processing link 33 out of 166\n",
      "Processing link 34 out of 166\n",
      "Processing link 35 out of 166\n",
      "Processing link 36 out of 166\n",
      "Processing link 37 out of 166\n",
      "Processing link 38 out of 166\n",
      "Processing link 39 out of 166\n",
      "Processing link 40 out of 166\n",
      "Processing link 41 out of 166\n",
      "Processing link 42 out of 166\n",
      "Processing link 43 out of 166\n",
      "Processing link 44 out of 166\n",
      "Processing link 45 out of 166\n",
      "Processing link 46 out of 166\n",
      "Processing link 47 out of 166\n",
      "Processing link 48 out of 166\n",
      "Processing link 49 out of 166\n",
      "Processing link 50 out of 166\n",
      "Processing link 51 out of 166\n",
      "Processing link 52 out of 166\n",
      "Processing link 53 out of 166\n",
      "Processing link 54 out of 166\n",
      "Processing link 55 out of 166\n",
      "Processing link 56 out of 166\n",
      "Processing link 57 out of 166\n",
      "Processing link 58 out of 166\n",
      "Processing link 59 out of 166\n",
      "Processing link 60 out of 166\n",
      "Processing link 61 out of 166\n",
      "Processing link 62 out of 166\n",
      "Processing link 63 out of 166\n",
      "Processing link 64 out of 166\n",
      "Processing link 65 out of 166\n",
      "Processing link 66 out of 166\n",
      "Processing link 67 out of 166\n",
      "Processing link 68 out of 166\n",
      "Processing link 69 out of 166\n",
      "Processing link 70 out of 166\n",
      "Processing link 71 out of 166\n",
      "Processing link 72 out of 166\n",
      "Processing link 73 out of 166\n",
      "Processing link 74 out of 166\n",
      "Processing link 75 out of 166\n",
      "Processing link 76 out of 166\n",
      "Processing link 77 out of 166\n",
      "Processing link 78 out of 166\n",
      "Processing link 79 out of 166\n",
      "Processing link 80 out of 166\n",
      "Processing link 81 out of 166\n",
      "Processing link 82 out of 166\n",
      "Processing link 83 out of 166\n",
      "Processing link 84 out of 166\n",
      "Processing link 85 out of 166\n",
      "Processing link 86 out of 166\n",
      "Processing link 87 out of 166\n",
      "Processing link 88 out of 166\n",
      "Processing link 89 out of 166\n",
      "Processing link 90 out of 166\n",
      "Processing link 91 out of 166\n",
      "Processing link 92 out of 166\n",
      "Processing link 93 out of 166\n",
      "Processing link 94 out of 166\n",
      "Processing link 95 out of 166\n",
      "Processing link 96 out of 166\n",
      "Processing link 97 out of 166\n",
      "Processing link 98 out of 166\n",
      "Processing link 99 out of 166\n",
      "Processing link 100 out of 166\n",
      "Processing link 101 out of 166\n",
      "Processing link 102 out of 166\n",
      "Processing link 103 out of 166\n",
      "Processing link 104 out of 166\n",
      "Processing link 105 out of 166\n",
      "Processing link 106 out of 166\n",
      "Processing link 107 out of 166\n",
      "Processing link 108 out of 166\n",
      "Processing link 109 out of 166\n",
      "Processing link 110 out of 166\n",
      "Processing link 111 out of 166\n",
      "Processing link 112 out of 166\n",
      "Processing link 113 out of 166\n",
      "Processing link 114 out of 166\n",
      "Processing link 115 out of 166\n",
      "Processing link 116 out of 166\n",
      "Processing link 117 out of 166\n",
      "Processing link 118 out of 166\n",
      "Processing link 119 out of 166\n",
      "Processing link 120 out of 166\n",
      "Processing link 121 out of 166\n",
      "Processing link 122 out of 166\n",
      "Processing link 123 out of 166\n",
      "Processing link 124 out of 166\n",
      "Processing link 125 out of 166\n",
      "Processing link 126 out of 166\n",
      "Processing link 127 out of 166\n",
      "Processing link 128 out of 166\n",
      "Processing link 129 out of 166\n",
      "Processing link 130 out of 166\n",
      "Processing link 131 out of 166\n",
      "Processing link 132 out of 166\n",
      "Processing link 133 out of 166\n",
      "Processing link 134 out of 166\n",
      "Processing link 135 out of 166\n",
      "Processing link 136 out of 166\n",
      "Processing link 137 out of 166\n",
      "Processing link 138 out of 166\n",
      "Processing link 139 out of 166\n",
      "Processing link 140 out of 166\n",
      "Processing link 141 out of 166\n",
      "Processing link 142 out of 166\n",
      "Processing link 143 out of 166\n",
      "Processing link 144 out of 166\n",
      "Processing link 145 out of 166\n",
      "Processing link 146 out of 166\n",
      "Processing link 147 out of 166\n",
      "Processing link 148 out of 166\n",
      "Processing link 149 out of 166\n",
      "Processing link 150 out of 166\n",
      "Processing link 151 out of 166\n",
      "Processing link 152 out of 166\n",
      "Processing link 153 out of 166\n",
      "Processing link 154 out of 166\n",
      "Processing link 155 out of 166\n",
      "Processing link 156 out of 166\n",
      "Processing link 157 out of 166\n",
      "Processing link 158 out of 166\n",
      "Processing link 159 out of 166\n",
      "Processing link 160 out of 166\n",
      "Processing link 161 out of 166\n",
      "Processing link 162 out of 166\n",
      "Processing link 163 out of 166\n",
      "Processing link 164 out of 166\n",
      "Processing link 165 out of 166\n"
     ]
    }
   ],
   "source": [
    "# Note that if the GSNR values calculated before, the function load the precalculated file\n",
    "GSNR_opt_link, _, _, _ = c_band.process_link_gsnr(f_c_axis = f_c_axis, \n",
    "                                                  Pch_dBm = Pch_dBm, \n",
    "                                                  num_Ch_mat = num_Ch_mat,\n",
    "                                                  spectrum_C = spectrum_C,\n",
    "                                                  Nspan_array = np.ones(network.all_links.shape[0], dtype=int),\n",
    "                                                  hierarchy_level = 4, \n",
    "                                                  minimum_hierarchy_level = 4,\n",
    "                                                  result_directory = results_dir)"
   ]
  },
  {
   "cell_type": "markdown",
   "metadata": {},
   "source": [
    "### *4. Create Planning Tool and Optimize Network*"
   ]
  },
  {
   "cell_type": "code",
   "execution_count": 14,
   "metadata": {},
   "outputs": [],
   "source": [
    "# Initialize planning tool\n",
    "planner = PlanningTool(\n",
    "    network_instance = network,\n",
    "    bands = [c_band, l_band], # simulate network over C and L Band\n",
    "    period_time = 10) # simulate network for 10 years\n"
   ]
  },
  {
   "cell_type": "markdown",
   "metadata": {},
   "source": [
    "#### *4.1 Simulating aggregated traffic at HL4s*"
   ]
  },
  {
   "cell_type": "code",
   "execution_count": 15,
   "metadata": {},
   "outputs": [],
   "source": [
    "planner.initialize_planner(num_fslots = num_fslots,\n",
    "                           hierarchy_level = 4, \n",
    "                           minimum_hierarchy_level = 4)"
   ]
  },
  {
   "cell_type": "code",
   "execution_count": 16,
   "metadata": {},
   "outputs": [
    {
     "name": "stdout",
     "output_type": "stream",
     "text": [
      "Calculate HL_capacity_final ...\n",
      "Calculate Traffic Matrix ...\n"
     ]
    }
   ],
   "source": [
    "# generate port capacity for HL4 nodes uisng Monte Carlo simulation\n",
    "# Note that if the initial traffic profile calculated before, the function load the precalculated profile\n",
    "planner.generate_initial_traffic_profile(num_nodes = len(HL4_all),\n",
    "                                monteCarlo_steps = 100,\n",
    "                                min_rate = 20, # Gbps\n",
    "                                max_rate = 200, # Gbps\n",
    "                                seed = 20, result_directory = results_dir)\n",
    "\n",
    "# Traffic growth simulation over 10 years\n",
    "# Note that if the annual traffic profile calculated before, the function load the precalculated profile\n",
    "planner.simulate_traffic_annual(lowest_hierarchy_dict = hl_dict['HL4'],\n",
    "                                CAGR = 0.4, \n",
    "                                result_directory = results_dir)"
   ]
  },
  {
   "cell_type": "markdown",
   "metadata": {},
   "source": [
    "#### *4.2 Simulate network*"
   ]
  },
  {
   "cell_type": "code",
   "execution_count": 17,
   "metadata": {},
   "outputs": [
    {
     "name": "stdout",
     "output_type": "stream",
     "text": [
      "Processing Year:  1\n",
      "Processing Year:  2\n",
      "Processing Year:  3\n",
      "Processing Year:  4\n",
      "Processing Year:  5\n",
      "Processing Year:  6\n",
      "Processing Year:  7\n",
      "Processing Year:  8\n",
      "Processing Year:  9\n",
      "Processing Year:  10\n"
     ]
    }
   ],
   "source": [
    "planner.run_planner(hierarchy_level = 4,\n",
    "                    prev_hierarchy_level = 3,\n",
    "                    pairs_disjoint = pairs_disjoint,\n",
    "                    kpair_standalone = 1,\n",
    "                    kpair_colocated = 1,\n",
    "                    candidate_paths_standalone_df = K_path_attributes_df,\n",
    "                    candidate_paths_colocated_df = K_path_attributes_colocated_df,\n",
    "                    GSNR_opt_link = GSNR_opt_link,\n",
    "                    minimum_level = 4, \n",
    "                    node_cap_update_idx = 2,\n",
    "                    result_directory = results_dir)\n",
    "\n",
    "# Note that the results will save in the results directory"
   ]
  }
 ],
 "metadata": {
  "kernelspec": {
   "display_name": "Python (SixDman)",
   "language": "python",
   "name": "sixdman"
  },
  "language_info": {
   "codemirror_mode": {
    "name": "ipython",
    "version": 3
   },
   "file_extension": ".py",
   "mimetype": "text/x-python",
   "name": "python",
   "nbconvert_exporter": "python",
   "pygments_lexer": "ipython3",
   "version": "3.13.3"
  }
 },
 "nbformat": 4,
 "nbformat_minor": 4
}
