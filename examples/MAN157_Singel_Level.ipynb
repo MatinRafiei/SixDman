{
 "cells": [
  {
   "cell_type": "markdown",
   "metadata": {},
   "source": [
    "# 6D-MAN Basic Usage Example\n",
    "\n",
    "This notebook demonstrates the basic usage of the 6D-MAN package for optical metro-urban network planning."
   ]
  },
  {
   "cell_type": "code",
   "execution_count": null,
   "metadata": {},
   "outputs": [],
   "source": [
    "import sys\n",
    "import os\n",
    "# Navigate relative to the current working directory\n",
    "sys.path.append(os.path.abspath('../src'))\n",
    "import numpy as np\n",
    "import pandas as pd\n",
    "from sixdman.core.network import Network\n",
    "from sixdman.core.band import Band, OpticalParameters\n",
    "from sixdman.core.planning import PlanningTool\n",
    "import json\n",
    "from sixdman.utils.paths import get_project_root\n",
    "\n",
    "import warnings\n",
    "warnings.filterwarnings(\"ignore\")"
   ]
  },
  {
   "cell_type": "code",
   "execution_count": 2,
   "metadata": {},
   "outputs": [],
   "source": [
    "# Use it to get paths\n",
    "project_root = get_project_root()\n",
    "results_dir = project_root / \"results\"\n",
    "results_dir.mkdir(parents=True, exist_ok=True)"
   ]
  },
  {
   "cell_type": "markdown",
   "metadata": {},
   "source": [
    "## 1. Create Network Instance"
   ]
  },
  {
   "cell_type": "code",
   "execution_count": 3,
   "metadata": {},
   "outputs": [],
   "source": [
    "# Initialize network\n",
    "network = Network(topology_name = 'MAN157')\n",
    "\n",
    "# Load topology from .mat file\n",
    "network.load_topology(filepath = '../data/MAN157Nodes.mat', matrixName ='MAN157Nodes')\n",
    "\n",
    "# Set hierarchical levels\n",
    "hl_dict = network.define_hierarchy(\n",
    "    HL1_standalone = [1, 5],\n",
    "    HL2_standalone = [0, 2, 3, 4],\n",
    "    HL3_standalone = list(range(6, 39)),\n",
    "    HL4_standalone = list(range(39, 157))\n",
    ")"
   ]
  },
  {
   "cell_type": "code",
   "execution_count": 4,
   "metadata": {},
   "outputs": [],
   "source": [
    "HL4_Standalone = hl_dict['HL4']['standalone']\n",
    "HL4_colocated = hl_dict['HL4']['colocated']\n",
    "HL4_all = np.concatenate((HL4_Standalone, HL4_colocated))"
   ]
  },
  {
   "cell_type": "code",
   "execution_count": 5,
   "metadata": {},
   "outputs": [],
   "source": [
    "_, subnetMatrix_HL4 = network.compute_hierarchy_subgraph(hierarchy_level = 4, minimum_hierarchy_level = 4)\n",
    "HL4_connected_nodes = network.get_neighbor_nodes(HL4_Standalone)"
   ]
  },
  {
   "cell_type": "markdown",
   "metadata": {},
   "source": [
    "Standalone HL4s"
   ]
  },
  {
   "cell_type": "code",
   "execution_count": 6,
   "metadata": {},
   "outputs": [],
   "source": [
    "file_name = f\"./../results/{network.topology_name}_HL4_K_path_attributes.csv\"\n",
    "\n",
    "if os.path.exists(file_name):\n",
    "    K_path_attributes_df = pd.read_csv(file_name)\n",
    "    K_path_attributes_df['links'] = K_path_attributes_df['links'].map(json.loads)\n",
    "    K_path_attributes_df['nodes'] = K_path_attributes_df['nodes'].map(json.loads)\n",
    "else:\n",
    "    \n",
    "    k_paths = 20\n",
    "\n",
    "    # define a list to store path attributes\n",
    "    K_path_attributes = []\n",
    "\n",
    "    # iterate through each standalone HL4 node\n",
    "    for src in HL4_Standalone:\n",
    "        for dest in HL4_connected_nodes:\n",
    "            K_path_attributes = network.compute_k_shortest_paths(subnetMatrix_HL4, K_path_attributes, source = src, target = dest, k = k_paths)\n",
    "\n",
    "    # Convert K_path_attributes list to dataframe\n",
    "    K_path_attributes_df = pd.DataFrame(K_path_attributes)\n",
    "\n",
    "    # save dataframe to csv file\n",
    "    K_path_attributes_df.to_csv(file_name, index = False)"
   ]
  },
  {
   "cell_type": "markdown",
   "metadata": {},
   "source": [
    "Colocated HL4s"
   ]
  },
  {
   "cell_type": "code",
   "execution_count": 7,
   "metadata": {},
   "outputs": [],
   "source": [
    "file_name = f\"./../results/{network.topology_name}_HL4_K_path_attributes_colocated.csv\"\n",
    "\n",
    "if os.path.exists(file_name):\n",
    "    K_path_attributes_colocated_df = pd.read_csv(file_name)\n",
    "    K_path_attributes_colocated_df['links'] = K_path_attributes_colocated_df['links'].map(json.loads)\n",
    "    K_path_attributes_colocated_df['nodes'] = K_path_attributes_colocated_df['nodes'].map(json.loads)\n",
    "else:\n",
    "    \n",
    "    k_paths = 20\n",
    "\n",
    "    # define a list to store path attributes\n",
    "    K_path_attributes_colocated = []\n",
    "\n",
    "    # iterate through each standalone HL4 node\n",
    "    for src in HL4_colocated:\n",
    "        for dest in HL4_connected_nodes:\n",
    "            if src != dest:\n",
    "                K_path_attributes_colocated = network.compute_k_shortest_paths(subnetMatrix_HL4, K_path_attributes_colocated, source = src, target = dest, k = k_paths)\n",
    "\n",
    "    # Convert K_path_attributes list to dataframe\n",
    "    K_path_attributes_colocated_df = pd.DataFrame(K_path_attributes_colocated)\n",
    "\n",
    "    # save dataframe to csv file\n",
    "    K_path_attributes_colocated_df.to_csv(file_name, index = False)"
   ]
  },
  {
   "cell_type": "code",
   "execution_count": 8,
   "metadata": {},
   "outputs": [],
   "source": [
    "# sort dataframes based on num_hops and distance (in order)\n",
    "K_path_attributes_df_sorted = K_path_attributes_df.groupby(['src_node'], group_keys = False).apply(lambda x: x.sort_values(['num_hops', 'distance']))\n",
    "K_path_attributes_colocated_df_sorted = K_path_attributes_colocated_df.groupby(['src_node', 'dest_node'], group_keys = False).apply(lambda x: x.sort_values(['num_hops', 'distance']))"
   ]
  },
  {
   "cell_type": "code",
   "execution_count": 9,
   "metadata": {},
   "outputs": [
    {
     "data": {
      "text/html": [
       "<div>\n",
       "<style scoped>\n",
       "    .dataframe tbody tr th:only-of-type {\n",
       "        vertical-align: middle;\n",
       "    }\n",
       "\n",
       "    .dataframe tbody tr th {\n",
       "        vertical-align: top;\n",
       "    }\n",
       "\n",
       "    .dataframe thead th {\n",
       "        text-align: right;\n",
       "    }\n",
       "</style>\n",
       "<table border=\"1\" class=\"dataframe\">\n",
       "  <thead>\n",
       "    <tr style=\"text-align: right;\">\n",
       "      <th></th>\n",
       "      <th>src_node</th>\n",
       "      <th>dest_node</th>\n",
       "      <th>nodes</th>\n",
       "      <th>links</th>\n",
       "      <th>distance</th>\n",
       "      <th>num_hops</th>\n",
       "    </tr>\n",
       "  </thead>\n",
       "  <tbody>\n",
       "    <tr>\n",
       "      <th>0</th>\n",
       "      <td>39</td>\n",
       "      <td>4</td>\n",
       "      <td>[39, 40, 42, 4]</td>\n",
       "      <td>[118, 120, 27]</td>\n",
       "      <td>30.0</td>\n",
       "      <td>3</td>\n",
       "    </tr>\n",
       "    <tr>\n",
       "      <th>9</th>\n",
       "      <td>39</td>\n",
       "      <td>5</td>\n",
       "      <td>[39, 41, 44, 45, 5]</td>\n",
       "      <td>[119, 121, 123, 31]</td>\n",
       "      <td>37.0</td>\n",
       "      <td>4</td>\n",
       "    </tr>\n",
       "    <tr>\n",
       "      <th>10</th>\n",
       "      <td>39</td>\n",
       "      <td>5</td>\n",
       "      <td>[39, 41, 44, 43, 5]</td>\n",
       "      <td>[119, 121, 122, 30]</td>\n",
       "      <td>38.0</td>\n",
       "      <td>4</td>\n",
       "    </tr>\n",
       "    <tr>\n",
       "      <th>11</th>\n",
       "      <td>39</td>\n",
       "      <td>5</td>\n",
       "      <td>[39, 40, 42, 4, 53, 52, 54, 5]</td>\n",
       "      <td>[118, 120, 27, 28, 131, 132, 33]</td>\n",
       "      <td>72.2</td>\n",
       "      <td>7</td>\n",
       "    </tr>\n",
       "    <tr>\n",
       "      <th>1</th>\n",
       "      <td>39</td>\n",
       "      <td>4</td>\n",
       "      <td>[39, 41, 44, 45, 5, 54, 52, 53, 4]</td>\n",
       "      <td>[119, 121, 123, 31, 33, 132, 131, 28]</td>\n",
       "      <td>79.2</td>\n",
       "      <td>8</td>\n",
       "    </tr>\n",
       "    <tr>\n",
       "      <th>...</th>\n",
       "      <td>...</td>\n",
       "      <td>...</td>\n",
       "      <td>...</td>\n",
       "      <td>...</td>\n",
       "      <td>...</td>\n",
       "      <td>...</td>\n",
       "    </tr>\n",
       "    <tr>\n",
       "      <th>1731</th>\n",
       "      <td>156</td>\n",
       "      <td>3</td>\n",
       "      <td>[156, 154, 3]</td>\n",
       "      <td>[218, 23]</td>\n",
       "      <td>30.0</td>\n",
       "      <td>2</td>\n",
       "    </tr>\n",
       "    <tr>\n",
       "      <th>1730</th>\n",
       "      <td>156</td>\n",
       "      <td>0</td>\n",
       "      <td>[156, 155, 0]</td>\n",
       "      <td>[219, 6]</td>\n",
       "      <td>32.0</td>\n",
       "      <td>2</td>\n",
       "    </tr>\n",
       "    <tr>\n",
       "      <th>1732</th>\n",
       "      <td>156</td>\n",
       "      <td>14</td>\n",
       "      <td>[156, 154, 3, 100, 95, 14]</td>\n",
       "      <td>[218, 23, 22, 172, 64]</td>\n",
       "      <td>66.0</td>\n",
       "      <td>5</td>\n",
       "    </tr>\n",
       "    <tr>\n",
       "      <th>1733</th>\n",
       "      <td>156</td>\n",
       "      <td>14</td>\n",
       "      <td>[156, 154, 3, 99, 101, 102, 100, 95, 14]</td>\n",
       "      <td>[218, 23, 21, 175, 177, 176, 172, 64]</td>\n",
       "      <td>91.0</td>\n",
       "      <td>8</td>\n",
       "    </tr>\n",
       "    <tr>\n",
       "      <th>1734</th>\n",
       "      <td>156</td>\n",
       "      <td>14</td>\n",
       "      <td>[156, 154, 3, 99, 101, 97, 100, 95, 14]</td>\n",
       "      <td>[218, 23, 21, 175, 174, 173, 172, 64]</td>\n",
       "      <td>93.0</td>\n",
       "      <td>8</td>\n",
       "    </tr>\n",
       "  </tbody>\n",
       "</table>\n",
       "<p>1735 rows × 6 columns</p>\n",
       "</div>"
      ],
      "text/plain": [
       "      src_node  dest_node                                     nodes  \\\n",
       "0           39          4                           [39, 40, 42, 4]   \n",
       "9           39          5                       [39, 41, 44, 45, 5]   \n",
       "10          39          5                       [39, 41, 44, 43, 5]   \n",
       "11          39          5            [39, 40, 42, 4, 53, 52, 54, 5]   \n",
       "1           39          4        [39, 41, 44, 45, 5, 54, 52, 53, 4]   \n",
       "...        ...        ...                                       ...   \n",
       "1731       156          3                             [156, 154, 3]   \n",
       "1730       156          0                             [156, 155, 0]   \n",
       "1732       156         14                [156, 154, 3, 100, 95, 14]   \n",
       "1733       156         14  [156, 154, 3, 99, 101, 102, 100, 95, 14]   \n",
       "1734       156         14   [156, 154, 3, 99, 101, 97, 100, 95, 14]   \n",
       "\n",
       "                                      links  distance  num_hops  \n",
       "0                            [118, 120, 27]      30.0         3  \n",
       "9                       [119, 121, 123, 31]      37.0         4  \n",
       "10                      [119, 121, 122, 30]      38.0         4  \n",
       "11         [118, 120, 27, 28, 131, 132, 33]      72.2         7  \n",
       "1     [119, 121, 123, 31, 33, 132, 131, 28]      79.2         8  \n",
       "...                                     ...       ...       ...  \n",
       "1731                              [218, 23]      30.0         2  \n",
       "1730                               [219, 6]      32.0         2  \n",
       "1732                 [218, 23, 22, 172, 64]      66.0         5  \n",
       "1733  [218, 23, 21, 175, 177, 176, 172, 64]      91.0         8  \n",
       "1734  [218, 23, 21, 175, 174, 173, 172, 64]      93.0         8  \n",
       "\n",
       "[1735 rows x 6 columns]"
      ]
     },
     "execution_count": 9,
     "metadata": {},
     "output_type": "execute_result"
    }
   ],
   "source": [
    "K_path_attributes_df_sorted"
   ]
  },
  {
   "cell_type": "code",
   "execution_count": 10,
   "metadata": {},
   "outputs": [],
   "source": [
    "pairs_disjoint = network.land_pair_finder(HL4_Standalone, K_path_attributes_df_sorted, num_pairs = 1)"
   ]
  },
  {
   "cell_type": "markdown",
   "metadata": {},
   "source": [
    "## 2. Define Transmission Bands"
   ]
  },
  {
   "cell_type": "code",
   "execution_count": 11,
   "metadata": {},
   "outputs": [],
   "source": [
    "# Define C-band parameters\n",
    "c_band_params = OpticalParameters()\n",
    "\n",
    "# Create C-band instance\n",
    "c_band = Band(\n",
    "    name='C',\n",
    "    start_freq = 190.65, # THz\n",
    "    end_freq = 196.675, # THz\n",
    "    opt_params = c_band_params,\n",
    "    network_instance = network,\n",
    "    channel_spacing = 0.05 # THz\n",
    "    )\n",
    "\n",
    "# Define L-band parameters\n",
    "l_band_params = OpticalParameters()\n",
    "\n",
    "# Create L-band instance\n",
    "l_band = Band(\n",
    "    name='L',\n",
    "    start_freq = 184.525, # THz\n",
    "    end_freq = 190.565, # THz\n",
    "    opt_params = l_band_params,\n",
    "    network_instance = network,\n",
    "    channel_spacing = 0.05 # THz\n",
    ")"
   ]
  },
  {
   "cell_type": "code",
   "execution_count": 12,
   "metadata": {},
   "outputs": [],
   "source": [
    "# define C-band and L-band frequency slots\n",
    "spectrum_C = c_band.calc_spectrum()\n",
    "spectrum_L = l_band.calc_spectrum()\n",
    "\n",
    "# concatenate C-band and KL-band to a sigle frequency spectrum\n",
    "spectrum = np.concatenate((spectrum_C, spectrum_L))\n",
    "\n",
    "# define total number of frequency slots\n",
    "num_fslots = len(spectrum)\n",
    "\n",
    "f_c_axis = spectrum * 1e12  # Convert to Hz\n",
    "Pch_dBm = np.arange(-6, -0.9, 0.1)  # Channel power in dBm\n",
    "num_Ch_mat = np.arange(1, len(spectrum) - 1)  # Channel indices"
   ]
  },
  {
   "cell_type": "code",
   "execution_count": 13,
   "metadata": {},
   "outputs": [
    {
     "name": "stdout",
     "output_type": "stream",
     "text": [
      "Loading precomputed link GSNR analysis\n"
     ]
    }
   ],
   "source": [
    "GSNR_opt_link, _, _, _ = c_band.process_link_gsnr(f_c_axis = f_c_axis, \n",
    "                                                  Pch_dBm = Pch_dBm, \n",
    "                                                  num_Ch_mat = num_Ch_mat,\n",
    "                                                  spectrum_C = spectrum_C,\n",
    "                                                  Nspan_array = np.ones(network.all_links.shape[0], dtype=int),\n",
    "                                                  hierarchy_level = 4, \n",
    "                                                  minimum_hierarchy_level = 4,\n",
    "                                                  result_directory = results_dir)"
   ]
  },
  {
   "cell_type": "code",
   "execution_count": 14,
   "metadata": {},
   "outputs": [
    {
     "data": {
      "text/plain": [
       "array([[38.13643937, 38.04594415, 38.0030148 , ..., 38.53300727,\n",
       "        38.58509191, 38.68786173],\n",
       "       [38.8119674 , 38.71301679, 38.66531612, ..., 38.99665938,\n",
       "        39.04852351, 39.15137073],\n",
       "       [38.47457508, 38.37989295, 38.33459198, ..., 38.76591938,\n",
       "        38.81791316, 38.92075208],\n",
       "       ...,\n",
       "       [38.31848784, 38.22359711, 38.17832951, ..., 38.64959866,\n",
       "        38.70282555, 38.80816437],\n",
       "       [37.48371905, 37.39715576, 37.35679464, ..., 38.06205343,\n",
       "        38.11659788, 38.22417695],\n",
       "       [38.13643937, 38.04594415, 38.0030148 , ..., 38.53300727,\n",
       "        38.58509191, 38.68786173]])"
      ]
     },
     "execution_count": 14,
     "metadata": {},
     "output_type": "execute_result"
    }
   ],
   "source": [
    "np.load(r'D:\\University\\Master\\Project\\Codes\\OpenSourcePlanner\\results\\Man157\\NoBypass\\MAN157_process_GSNR_HL4.npz')['GSNR_opt_link']"
   ]
  },
  {
   "cell_type": "markdown",
   "metadata": {},
   "source": [
    "## 3. Create Planning Tool and Optimize Network"
   ]
  },
  {
   "cell_type": "code",
   "execution_count": 15,
   "metadata": {},
   "outputs": [],
   "source": [
    "# Initialize planning tool\n",
    "planner = PlanningTool(\n",
    "    network_instance = network,\n",
    "    bands = [c_band, l_band], \n",
    "    period_time = 10)\n"
   ]
  },
  {
   "cell_type": "markdown",
   "metadata": {},
   "source": [
    "#### *Simulating aggregated traffic at HLs*"
   ]
  },
  {
   "cell_type": "code",
   "execution_count": 16,
   "metadata": {},
   "outputs": [],
   "source": [
    "planner.initialize_planner(num_fslots = num_fslots,\n",
    "                           hierarchy_level = 4, \n",
    "                           minimum_hierarchy_level = 4)"
   ]
  },
  {
   "cell_type": "code",
   "execution_count": 17,
   "metadata": {},
   "outputs": [
    {
     "name": "stdout",
     "output_type": "stream",
     "text": [
      "Loading precomputed HL_capacity_final ...\n",
      "Loading precomputed Traffic Matrix ...\n"
     ]
    }
   ],
   "source": [
    "# generate port capacity for HL4 nodes uisng Monte Carlo simulation\n",
    "planner.generate_initial_traffic_profile(num_nodes = len(HL4_all),\n",
    "                                monteCarlo_steps = 100,\n",
    "                                min_rate = 20, # Gbps\n",
    "                                max_rate = 200, # Gbps\n",
    "                                seed = 20, result_directory = results_dir)\n",
    "\n",
    "# Traffic growth simulation over 10 years\n",
    "planner.simulate_traffic_annual(lowest_hierarchy_dict = hl_dict['HL4'],\n",
    "                                CAGR = 0.4, \n",
    "                                result_directory = results_dir)"
   ]
  },
  {
   "cell_type": "code",
   "execution_count": 18,
   "metadata": {},
   "outputs": [
    {
     "name": "stdout",
     "output_type": "stream",
     "text": [
      "Processing Year:  1\n",
      "Processing Year:  2\n",
      "Processing Year:  3\n",
      "Processing Year:  4\n",
      "Processing Year:  5\n",
      "Processing Year:  6\n",
      "Processing Year:  7\n",
      "Processing Year:  8\n",
      "Processing Year:  9\n",
      "Processing Year:  10\n"
     ]
    }
   ],
   "source": [
    "planner.run_planner(hierarchy_level = 4,\n",
    "                    prev_hierarchy_level = 3,\n",
    "                    pairs_disjoint = pairs_disjoint,\n",
    "                    kpair_standalone = 1,\n",
    "                    kpair_colocated = 1,\n",
    "                    candidate_paths_standalone_df = K_path_attributes_df,\n",
    "                    candidate_paths_colocated_df = K_path_attributes_colocated_df,\n",
    "                    GSNR_opt_link = GSNR_opt_link,\n",
    "                    minimum_level = 4, \n",
    "                    node_cap_update_idx = 2,\n",
    "                    result_directory = results_dir)"
   ]
  }
 ],
 "metadata": {
  "kernelspec": {
   "display_name": "myenv",
   "language": "python",
   "name": "python3"
  },
  "language_info": {
   "codemirror_mode": {
    "name": "ipython",
    "version": 3
   },
   "file_extension": ".py",
   "mimetype": "text/x-python",
   "name": "python",
   "nbconvert_exporter": "python",
   "pygments_lexer": "ipython3",
   "version": "3.12.4"
  }
 },
 "nbformat": 4,
 "nbformat_minor": 4
}
